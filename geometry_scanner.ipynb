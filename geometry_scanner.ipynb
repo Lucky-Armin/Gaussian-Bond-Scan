{
 "cells": [
  {
   "cell_type": "markdown",
   "metadata": {},
   "source": [
    "## Usage\n",
    "\n",
    "Optimizes a given geometry in Gaussian 16 and scans a user given bond to create a potential energy curve. The output can directly be used as input for DFTB parametrization with the TANGO program.\n",
    "\n",
    "## Workflow\n",
    "\n",
    "Use GaussView to draw the structure you want to use for repulsive fitting in TANGO. Before saving the geometry go to Tools-->Atom List...-->Edit-->Reorder-->All Atoms (Except the First) by Bonding. Then save the structure as Z-Matrix. Only the geometry will be read by the code, so don't bother about the header lines and the basis set in this file. Then ask yourself which basis set you want to employ and why you choose this study program... after contemplating the life choices that led you here, visit https://www.basissetexchange.org/ and save the whole basis set into one file. Be careful to include all atoms contained in your system and no more! Now you only need to edit the values in the next code cell to your liking. Run all cells and go drink a coffee (or seventy-three if you have a large system :D)"
   ]
  },
  {
   "cell_type": "markdown",
   "metadata": {},
   "source": [
    "## User Input:"
   ]
  },
  {
   "cell_type": "code",
   "execution_count": 9,
   "metadata": {},
   "outputs": [],
   "source": [
    "molecule_name = \"h3f\"   # label or name of the molecule to be scanned --> Gaussian files for opt and scan will be named accordingly\n",
    "memory = 25             # amount of RAM in GB allocated for the Gaussian calculations\n",
    "n_cpus = 6              # number of cpus used for the Gaussian calculations\n",
    "method = \"ump2(full)\"   # method employed for the calculations\n",
    "title_card = \"Basis Set from basissetexchange.org:  Zr: cc-pVTZ-PP   F, H: cc-pVTZ\" # title card used for the .gjf files, ape likes to insert the source of the used basis set and the exact flavor of basis set\n",
    "scan_bond = \"B4\"        # provide the bond label as defined in the geom_file that needs to be scanned\n",
    "lower_bound = 0.7       # lower bound of the scanned bond as multiple of the equilibrium bond distance\n",
    "upper_bound = 1.75      # upper bound of the scanned bond as multiple of the equilibrium bond distance\n",
    "scan_step_number = (upper_bound - lower_bound) * 100 # defines the number of points minus one between the lower and upper bound that are calculated --> you can hardcode it if you like or take a multiple of the given value\n",
    "geom_file = \"geom.gjf\"  # path to the .gjf containing the geometry of interest\n",
    "basisset_file = \"basis-set.info\" # path to the file containing the gaussian basis set; website for obtaining basis-sets: https://www.basissetexchange.org/"
   ]
  },
  {
   "cell_type": "markdown",
   "metadata": {},
   "source": [
    "## Check if the user is trolling and the bond to be scanned is non-existing"
   ]
  },
  {
   "cell_type": "code",
   "execution_count": 10,
   "metadata": {},
   "outputs": [],
   "source": [
    "with open(geom_file, \"r\") as file:\n",
    "    lines = file.readlines()\n",
    "# Locate the line containing the scan_bond string\n",
    "for i, line in enumerate(lines):\n",
    "    if line.strip().startswith(f\"{scan_bond} \"):\n",
    "        parts = line.split()\n",
    "        if len(parts) == 2:\n",
    "            break\n",
    "else:\n",
    "    raise ValueError(f\"Error: Could not find the line starting with '{scan_bond}'.\\n Please provide a valid bond to be scanned.\")"
   ]
  },
  {
   "cell_type": "markdown",
   "metadata": {},
   "source": [
    "## Block that sets the header lines of the .gjf for the geometry optimization"
   ]
  },
  {
   "cell_type": "code",
   "execution_count": 11,
   "metadata": {},
   "outputs": [],
   "source": [
    "header = [\n",
    "    f\"%chk={molecule_name}.chk\\n\",\n",
    "    f\"%mem={memory}GB\\n\",\n",
    "    f\"%nprocshared={n_cpus}\\n\",\n",
    "    f\"# {method}/gen pseudo=read guess=mix scf=(maxcycle=500, yqc, tight) OPT(maxcycles=1000)\\n\",     # gen enables the use of custom basis sets; pseudo=read enables the use of pseudo potentials; guess=mix mixes the HOMO and LUMO as initial guess for the HF wavefunction\n",
    "    \"\\n\",\n",
    "    f\"{title_card}\\n\",\n",
    "    \"\\n\"\n",
    "]"
   ]
  },
  {
   "cell_type": "markdown",
   "metadata": {},
   "source": [
    "## Definition of the function reading in the geometry"
   ]
  },
  {
   "cell_type": "code",
   "execution_count": 12,
   "metadata": {},
   "outputs": [],
   "source": [
    "def read_geometry_block(file_path):\n",
    "    with open(file_path, 'r') as file:\n",
    "        lines = file.readlines()\n",
    "\n",
    "    # Skip initial empty lines\n",
    "    index = 0\n",
    "    while index < len(lines) and lines[index].strip() == \"\":\n",
    "        index += 1\n",
    "\n",
    "    # Skip the first non-empty line\n",
    "    if index < len(lines):\n",
    "        index += 1\n",
    "\n",
    "    # Skip the next two empty lines\n",
    "    empty_line_count = 0\n",
    "    while index < len(lines) and empty_line_count < 2:\n",
    "        if lines[index].strip() == \"\":\n",
    "            empty_line_count += 1\n",
    "        index += 1\n",
    "\n",
    "    # Read the geometry block\n",
    "    geometry_block = []\n",
    "    empty_line_count = 0\n",
    "    while index < len(lines) and empty_line_count < 2:\n",
    "        geometry_block.append(lines[index])\n",
    "        if lines[index].strip() == \"\":\n",
    "            empty_line_count += 1\n",
    "        index += 1\n",
    "\n",
    "    # Strip empty lines from the end of the geometry_block\n",
    "    while geometry_block and geometry_block[-1].strip() == \"\":\n",
    "        geometry_block.pop()\n",
    "\n",
    "    return geometry_block"
   ]
  },
  {
   "cell_type": "markdown",
   "metadata": {},
   "source": [
    "## Definition of the function reading in the Basis Set"
   ]
  },
  {
   "cell_type": "code",
   "execution_count": 13,
   "metadata": {},
   "outputs": [],
   "source": [
    "def read_basis_set(file_path):\n",
    "    with open(file_path, 'r') as file:\n",
    "        basisset = file.readlines()\n",
    "\n",
    "    # Remove blank lines at the start\n",
    "    while basisset and basisset[0].strip() == \"\":\n",
    "        basisset.pop(0)\n",
    "\n",
    "    # Remove blank lines at the end\n",
    "    while basisset and basisset[-1].strip() == \"\":\n",
    "        basisset.pop()\n",
    "\n",
    "    # Add a blank line at the beginning and the end\n",
    "    basisset.insert(0, \"\\n\")\n",
    "    basisset.append(\"\\n\")\n",
    "    \n",
    "    return basisset"
   ]
  },
  {
   "cell_type": "markdown",
   "metadata": {},
   "source": [
    "## Extract the Geometry and Basis Set from the input files and write the Gaussian input file"
   ]
  },
  {
   "cell_type": "code",
   "execution_count": 14,
   "metadata": {},
   "outputs": [],
   "source": [
    "import os\n",
    "\n",
    "# Read the geometry block and basis set\n",
    "input_geometry = read_geometry_block(geom_file)\n",
    "basisset = read_basis_set(basisset_file)\n",
    "\n",
    "# Concatenate the header, input_geometry and basisset\n",
    "output_content = header + input_geometry + basisset\n",
    "\n",
    "# Create the 'opt' directory if it doesn't exist\n",
    "os.makedirs('opt', exist_ok=True)\n",
    "\n",
    "# Write the concatenated list to the Gaussian input file in the 'opt' directory\n",
    "with open(os.path.join('opt', f\"{molecule_name}.gjf\"), \"w\") as file:\n",
    "    for line in output_content:\n",
    "        file.write(line)"
   ]
  },
  {
   "cell_type": "markdown",
   "metadata": {},
   "source": [
    "## Run the Gaussian geometry optimization"
   ]
  },
  {
   "cell_type": "code",
   "execution_count": 15,
   "metadata": {},
   "outputs": [
    {
     "name": "stderr",
     "output_type": "stream",
     "text": [
      "Removing compiler-rt version 2022.1.0\n",
      "Use `module list` to view any remaining dependent modules.\n",
      "Loading gaussian/g16\n",
      "  Loading requirement: pgi/16.5\n"
     ]
    },
    {
     "ename": "KeyboardInterrupt",
     "evalue": "",
     "output_type": "error",
     "traceback": [
      "\u001b[0;31m---------------------------------------------------------------------------\u001b[0m",
      "\u001b[0;31mKeyboardInterrupt\u001b[0m                         Traceback (most recent call last)",
      "Cell \u001b[0;32mIn[15], line 22\u001b[0m\n\u001b[1;32m     19\u001b[0m os\u001b[38;5;241m.\u001b[39mchmod(bash_script_path, \u001b[38;5;241m0o755\u001b[39m)\n\u001b[1;32m     21\u001b[0m \u001b[38;5;66;03m# Execute the bash script\u001b[39;00m\n\u001b[0;32m---> 22\u001b[0m \u001b[43msubprocess\u001b[49m\u001b[38;5;241;43m.\u001b[39;49m\u001b[43mrun\u001b[49m\u001b[43m(\u001b[49m\u001b[43m[\u001b[49m\u001b[38;5;124;43m\"\u001b[39;49m\u001b[38;5;124;43m./\u001b[39;49m\u001b[38;5;124;43m\"\u001b[39;49m\u001b[43m \u001b[49m\u001b[38;5;241;43m+\u001b[39;49m\u001b[43m \u001b[49m\u001b[43mbash_script_path\u001b[49m\u001b[43m]\u001b[49m\u001b[43m,\u001b[49m\u001b[43m \u001b[49m\u001b[43mcheck\u001b[49m\u001b[38;5;241;43m=\u001b[39;49m\u001b[38;5;28;43;01mTrue\u001b[39;49;00m\u001b[43m)\u001b[49m\n\u001b[1;32m     24\u001b[0m \u001b[38;5;66;03m# Delete the bash script after execution\u001b[39;00m\n\u001b[1;32m     25\u001b[0m os\u001b[38;5;241m.\u001b[39mremove(bash_script_path)\n",
      "File \u001b[0;32m~/.conda/envs/pq/lib/python3.12/subprocess.py:550\u001b[0m, in \u001b[0;36mrun\u001b[0;34m(input, capture_output, timeout, check, *popenargs, **kwargs)\u001b[0m\n\u001b[1;32m    548\u001b[0m \u001b[38;5;28;01mwith\u001b[39;00m Popen(\u001b[38;5;241m*\u001b[39mpopenargs, \u001b[38;5;241m*\u001b[39m\u001b[38;5;241m*\u001b[39mkwargs) \u001b[38;5;28;01mas\u001b[39;00m process:\n\u001b[1;32m    549\u001b[0m     \u001b[38;5;28;01mtry\u001b[39;00m:\n\u001b[0;32m--> 550\u001b[0m         stdout, stderr \u001b[38;5;241m=\u001b[39m \u001b[43mprocess\u001b[49m\u001b[38;5;241;43m.\u001b[39;49m\u001b[43mcommunicate\u001b[49m\u001b[43m(\u001b[49m\u001b[38;5;28;43minput\u001b[39;49m\u001b[43m,\u001b[49m\u001b[43m \u001b[49m\u001b[43mtimeout\u001b[49m\u001b[38;5;241;43m=\u001b[39;49m\u001b[43mtimeout\u001b[49m\u001b[43m)\u001b[49m\n\u001b[1;32m    551\u001b[0m     \u001b[38;5;28;01mexcept\u001b[39;00m TimeoutExpired \u001b[38;5;28;01mas\u001b[39;00m exc:\n\u001b[1;32m    552\u001b[0m         process\u001b[38;5;241m.\u001b[39mkill()\n",
      "File \u001b[0;32m~/.conda/envs/pq/lib/python3.12/subprocess.py:1201\u001b[0m, in \u001b[0;36mPopen.communicate\u001b[0;34m(self, input, timeout)\u001b[0m\n\u001b[1;32m   1199\u001b[0m         stderr \u001b[38;5;241m=\u001b[39m \u001b[38;5;28mself\u001b[39m\u001b[38;5;241m.\u001b[39mstderr\u001b[38;5;241m.\u001b[39mread()\n\u001b[1;32m   1200\u001b[0m         \u001b[38;5;28mself\u001b[39m\u001b[38;5;241m.\u001b[39mstderr\u001b[38;5;241m.\u001b[39mclose()\n\u001b[0;32m-> 1201\u001b[0m     \u001b[38;5;28;43mself\u001b[39;49m\u001b[38;5;241;43m.\u001b[39;49m\u001b[43mwait\u001b[49m\u001b[43m(\u001b[49m\u001b[43m)\u001b[49m\n\u001b[1;32m   1202\u001b[0m \u001b[38;5;28;01melse\u001b[39;00m:\n\u001b[1;32m   1203\u001b[0m     \u001b[38;5;28;01mif\u001b[39;00m timeout \u001b[38;5;129;01mis\u001b[39;00m \u001b[38;5;129;01mnot\u001b[39;00m \u001b[38;5;28;01mNone\u001b[39;00m:\n",
      "File \u001b[0;32m~/.conda/envs/pq/lib/python3.12/subprocess.py:1264\u001b[0m, in \u001b[0;36mPopen.wait\u001b[0;34m(self, timeout)\u001b[0m\n\u001b[1;32m   1262\u001b[0m     endtime \u001b[38;5;241m=\u001b[39m _time() \u001b[38;5;241m+\u001b[39m timeout\n\u001b[1;32m   1263\u001b[0m \u001b[38;5;28;01mtry\u001b[39;00m:\n\u001b[0;32m-> 1264\u001b[0m     \u001b[38;5;28;01mreturn\u001b[39;00m \u001b[38;5;28;43mself\u001b[39;49m\u001b[38;5;241;43m.\u001b[39;49m\u001b[43m_wait\u001b[49m\u001b[43m(\u001b[49m\u001b[43mtimeout\u001b[49m\u001b[38;5;241;43m=\u001b[39;49m\u001b[43mtimeout\u001b[49m\u001b[43m)\u001b[49m\n\u001b[1;32m   1265\u001b[0m \u001b[38;5;28;01mexcept\u001b[39;00m \u001b[38;5;167;01mKeyboardInterrupt\u001b[39;00m:\n\u001b[1;32m   1266\u001b[0m     \u001b[38;5;66;03m# https://bugs.python.org/issue25942\u001b[39;00m\n\u001b[1;32m   1267\u001b[0m     \u001b[38;5;66;03m# The first keyboard interrupt waits briefly for the child to\u001b[39;00m\n\u001b[1;32m   1268\u001b[0m     \u001b[38;5;66;03m# exit under the common assumption that it also received the ^C\u001b[39;00m\n\u001b[1;32m   1269\u001b[0m     \u001b[38;5;66;03m# generated SIGINT and will exit rapidly.\u001b[39;00m\n\u001b[1;32m   1270\u001b[0m     \u001b[38;5;28;01mif\u001b[39;00m timeout \u001b[38;5;129;01mis\u001b[39;00m \u001b[38;5;129;01mnot\u001b[39;00m \u001b[38;5;28;01mNone\u001b[39;00m:\n",
      "File \u001b[0;32m~/.conda/envs/pq/lib/python3.12/subprocess.py:2053\u001b[0m, in \u001b[0;36mPopen._wait\u001b[0;34m(self, timeout)\u001b[0m\n\u001b[1;32m   2051\u001b[0m \u001b[38;5;28;01mif\u001b[39;00m \u001b[38;5;28mself\u001b[39m\u001b[38;5;241m.\u001b[39mreturncode \u001b[38;5;129;01mis\u001b[39;00m \u001b[38;5;129;01mnot\u001b[39;00m \u001b[38;5;28;01mNone\u001b[39;00m:\n\u001b[1;32m   2052\u001b[0m     \u001b[38;5;28;01mbreak\u001b[39;00m  \u001b[38;5;66;03m# Another thread waited.\u001b[39;00m\n\u001b[0;32m-> 2053\u001b[0m (pid, sts) \u001b[38;5;241m=\u001b[39m \u001b[38;5;28;43mself\u001b[39;49m\u001b[38;5;241;43m.\u001b[39;49m\u001b[43m_try_wait\u001b[49m\u001b[43m(\u001b[49m\u001b[38;5;241;43m0\u001b[39;49m\u001b[43m)\u001b[49m\n\u001b[1;32m   2054\u001b[0m \u001b[38;5;66;03m# Check the pid and loop as waitpid has been known to\u001b[39;00m\n\u001b[1;32m   2055\u001b[0m \u001b[38;5;66;03m# return 0 even without WNOHANG in odd situations.\u001b[39;00m\n\u001b[1;32m   2056\u001b[0m \u001b[38;5;66;03m# http://bugs.python.org/issue14396.\u001b[39;00m\n\u001b[1;32m   2057\u001b[0m \u001b[38;5;28;01mif\u001b[39;00m pid \u001b[38;5;241m==\u001b[39m \u001b[38;5;28mself\u001b[39m\u001b[38;5;241m.\u001b[39mpid:\n",
      "File \u001b[0;32m~/.conda/envs/pq/lib/python3.12/subprocess.py:2011\u001b[0m, in \u001b[0;36mPopen._try_wait\u001b[0;34m(self, wait_flags)\u001b[0m\n\u001b[1;32m   2009\u001b[0m \u001b[38;5;250m\u001b[39m\u001b[38;5;124;03m\"\"\"All callers to this function MUST hold self._waitpid_lock.\"\"\"\u001b[39;00m\n\u001b[1;32m   2010\u001b[0m \u001b[38;5;28;01mtry\u001b[39;00m:\n\u001b[0;32m-> 2011\u001b[0m     (pid, sts) \u001b[38;5;241m=\u001b[39m \u001b[43mos\u001b[49m\u001b[38;5;241;43m.\u001b[39;49m\u001b[43mwaitpid\u001b[49m\u001b[43m(\u001b[49m\u001b[38;5;28;43mself\u001b[39;49m\u001b[38;5;241;43m.\u001b[39;49m\u001b[43mpid\u001b[49m\u001b[43m,\u001b[49m\u001b[43m \u001b[49m\u001b[43mwait_flags\u001b[49m\u001b[43m)\u001b[49m\n\u001b[1;32m   2012\u001b[0m \u001b[38;5;28;01mexcept\u001b[39;00m \u001b[38;5;167;01mChildProcessError\u001b[39;00m:\n\u001b[1;32m   2013\u001b[0m     \u001b[38;5;66;03m# This happens if SIGCLD is set to be ignored or waiting\u001b[39;00m\n\u001b[1;32m   2014\u001b[0m     \u001b[38;5;66;03m# for child processes has otherwise been disabled for our\u001b[39;00m\n\u001b[1;32m   2015\u001b[0m     \u001b[38;5;66;03m# process.  This child is dead, we can't get the status.\u001b[39;00m\n\u001b[1;32m   2016\u001b[0m     pid \u001b[38;5;241m=\u001b[39m \u001b[38;5;28mself\u001b[39m\u001b[38;5;241m.\u001b[39mpid\n",
      "\u001b[0;31mKeyboardInterrupt\u001b[0m: "
     ]
    }
   ],
   "source": [
    "import os\n",
    "import subprocess\n",
    "\n",
    "# Create the bash script content\n",
    "bash_script_content = f\"\"\"#!/bin/bash\n",
    "module purge\n",
    "module load gaussian/g16\n",
    "cd opt\n",
    "g16 {molecule_name}.gjf\n",
    "cd ..\n",
    "\"\"\"\n",
    "\n",
    "# Write the bash script to a file\n",
    "bash_script_path = \"run_gaussian_opt.sh\"\n",
    "with open(bash_script_path, \"w\") as file:\n",
    "    file.write(bash_script_content)\n",
    "\n",
    "# Make the bash script executable\n",
    "os.chmod(bash_script_path, 0o755)\n",
    "\n",
    "# Execute the bash script\n",
    "subprocess.run([\"./\" + bash_script_path], check=True)\n",
    "\n",
    "# Delete the bash script after execution\n",
    "os.remove(bash_script_path)"
   ]
  },
  {
   "cell_type": "markdown",
   "metadata": {},
   "source": [
    "## Check if geometry did converge"
   ]
  },
  {
   "cell_type": "code",
   "execution_count": null,
   "metadata": {},
   "outputs": [
    {
     "ename": "RuntimeError",
     "evalue": "Error: Geometry optimization didn't terminate properly.",
     "output_type": "error",
     "traceback": [
      "\u001b[0;31m---------------------------------------------------------------------------\u001b[0m",
      "\u001b[0;31mRuntimeError\u001b[0m                              Traceback (most recent call last)",
      "Cell \u001b[0;32mIn[8], line 12\u001b[0m\n\u001b[1;32m     10\u001b[0m     \u001b[38;5;28mprint\u001b[39m(\u001b[38;5;124m\"\u001b[39m\u001b[38;5;124mGeometry optimization completed successfully.\u001b[39m\u001b[38;5;124m\"\u001b[39m)\n\u001b[1;32m     11\u001b[0m \u001b[38;5;28;01melse\u001b[39;00m:\n\u001b[0;32m---> 12\u001b[0m     \u001b[38;5;28;01mraise\u001b[39;00m \u001b[38;5;167;01mRuntimeError\u001b[39;00m(\u001b[38;5;124m\"\u001b[39m\u001b[38;5;124mError: Geometry optimization didn\u001b[39m\u001b[38;5;124m'\u001b[39m\u001b[38;5;124mt terminate properly.\u001b[39m\u001b[38;5;124m\"\u001b[39m)\n",
      "\u001b[0;31mRuntimeError\u001b[0m: Error: Geometry optimization didn't terminate properly."
     ]
    }
   ],
   "source": [
    "import os\n",
    "\n",
    "# Path to the log file\n",
    "opt_log_file_path = os.path.join(\"opt\", f\"{molecule_name}.log\")\n",
    "\n",
    "# Check if the last line starts with \"Normal termination\"\n",
    "with open(opt_log_file_path, \"r\") as file:\n",
    "    lines = file.readlines()\n",
    "    if lines and lines[-1].strip().startswith(\"Normal termination\"):\n",
    "        print(\"Geometry optimization completed successfully.\")\n",
    "    else:\n",
    "        raise RuntimeError(\"Error: Geometry optimization didn't terminate properly.\")"
   ]
  },
  {
   "cell_type": "markdown",
   "metadata": {},
   "source": [
    "## Definition of the function extracting the converged geometry"
   ]
  },
  {
   "cell_type": "code",
   "execution_count": null,
   "metadata": {},
   "outputs": [],
   "source": [
    "import re\n",
    "\n",
    "# Function to extract the optimized structure from the log file\n",
    "def extract_optimized_structure(opt_log_file_path):\n",
    "    with open(opt_log_file_path, \"r\") as file:\n",
    "        lines = file.readlines()\n",
    "\n",
    "    # Find the start of the geometry block\n",
    "    start_index = None\n",
    "    for i, line in enumerate(lines):\n",
    "        if \"Final structure in terms of initial Z-matrix:\" in line:\n",
    "            start_index = i + 1\n",
    "            break\n",
    "\n",
    "    if start_index is None:\n",
    "        raise RuntimeError(\"Error: Could not find the start of the geometry block.\")\n",
    "\n",
    "    # Extract the geometry block\n",
    "    geometry_block = []\n",
    "    for line in lines[start_index:]:\n",
    "        if re.match(r'^\\d', line.strip()):\n",
    "            break\n",
    "        if \"Variables:\" in line:\n",
    "            geometry_block.append(\"\\n\")\n",
    "        else:\n",
    "            # Replace commas with spaces and add spaces around equal signs\n",
    "            modified_line = line.replace(\",\", \"   \")\n",
    "            modified_line = re.sub(r'=', '   ', modified_line)\n",
    "            geometry_block.append(modified_line)\n",
    "\n",
    "    return geometry_block"
   ]
  },
  {
   "cell_type": "markdown",
   "metadata": {},
   "source": [
    "## Block that sets the header lines of the .gjf for the bond scan"
   ]
  },
  {
   "cell_type": "code",
   "execution_count": null,
   "metadata": {},
   "outputs": [],
   "source": [
    "header = [\n",
    "    f\"%chk={molecule_name}.chk\\n\",\n",
    "    f\"%mem={memory}GB\\n\",\n",
    "    f\"%nprocshared={n_cpus}\\n\",\n",
    "    f\"# scan {method}/gen pseudo=read guess=mix scf=(maxcycle=500, yqc, tight)\\n\",     # gen enables the use of custom basis sets; pseudo=read enables the use of pseudo potentials; guess=mix mixes the HOMO and LUMO as initial guess for the HF wavefunction\n",
    "    \"\\n\",\n",
    "    f\"{title_card}\\n\",\n",
    "    \"\\n\"\n",
    "]"
   ]
  },
  {
   "cell_type": "markdown",
   "metadata": {},
   "source": [
    "## Extract the optimized geometry from the .log file and write the input file for the bond scan"
   ]
  },
  {
   "cell_type": "code",
   "execution_count": null,
   "metadata": {},
   "outputs": [],
   "source": [
    "# Extract the optimized structure and prepend the charge and spin multiplicity taken from the input_geometry\n",
    "optimized_structure = extract_optimized_structure(opt_log_file_path)\n",
    "optimized_structure.insert(0, input_geometry[0])\n",
    "\n",
    "# Concatenate the header, optimized_structure and basisset\n",
    "output_content = header + optimized_structure + basisset\n",
    "\n",
    "# Create the 'scan' directory if it doesn't exist\n",
    "os.makedirs('scan', exist_ok=True)\n",
    "\n",
    "# Write the concatenated list to the Gaussian input file in the 'scan' directory\n",
    "with open(os.path.join('scan', f\"{molecule_name}.gjf\"), \"w\") as file:\n",
    "    for line in output_content:\n",
    "        file.write(line)"
   ]
  },
  {
   "cell_type": "markdown",
   "metadata": {},
   "source": [
    "## Insert the bond scan in the Gaussian input file"
   ]
  },
  {
   "cell_type": "code",
   "execution_count": null,
   "metadata": {},
   "outputs": [],
   "source": [
    "import os\n",
    "\n",
    "# Path to the .gjf file for the scan\n",
    "scan_file_path = os.path.join(\"scan\", f\"{molecule_name}.gjf\")\n",
    "\n",
    "# Function to locate the line, extract the float, calculate new values, and overwrite the line\n",
    "def update_scan_bond(scan_file_path, scan_bond):\n",
    "    with open(scan_file_path, \"r\") as file:\n",
    "        lines = file.readlines()\n",
    "\n",
    "    # Locate the line containing the scan_bond string\n",
    "    for i, line in enumerate(lines):\n",
    "        if line.strip().startswith(scan_bond):\n",
    "            # Extract the float value from the line\n",
    "            parts = line.split()\n",
    "            if len(parts) == 2:\n",
    "                equilibrium_dist = float(parts[1])\n",
    "                minimum_dist = equilibrium_dist * lower_bound\n",
    "                maximum_dist = equilibrium_dist * upper_bound\n",
    "                scan_distance = maximum_dist - minimum_dist\n",
    "                step_size = scan_distance / (scan_step_number)\n",
    "                # Calculate new values (example calculation)\n",
    "                new_line = f\" {scan_bond}   {minimum_dist:.8f}   {int(scan_step_number)}   {step_size}\\n\"\n",
    "                # Overwrite the exact line in the file\n",
    "                lines[i] = new_line\n",
    "                break\n",
    "    else:\n",
    "        raise ValueError(f\"Error: Could not find the line starting with '{scan_bond}'.\")\n",
    "\n",
    "    # Write the updated lines back to the file\n",
    "    with open(scan_file_path, \"w\") as file:\n",
    "        file.writelines(lines)\n",
    "\n",
    "\n",
    "update_scan_bond(scan_file_path, scan_bond)"
   ]
  },
  {
   "cell_type": "markdown",
   "metadata": {},
   "source": [
    "## Run the Gaussian bond scan"
   ]
  },
  {
   "cell_type": "code",
   "execution_count": null,
   "metadata": {},
   "outputs": [],
   "source": [
    "import os\n",
    "import subprocess\n",
    "\n",
    "# Create the bash script content\n",
    "bash_script_content = f\"\"\"#!/bin/bash\n",
    "module purge\n",
    "module load gaussian/g16\n",
    "cd scan\n",
    "g16 {molecule_name}.gjf\n",
    "cd ..\n",
    "\"\"\"\n",
    "\n",
    "# Write the bash script to a file\n",
    "bash_script_path = \"run_gaussian_scan.sh\"\n",
    "with open(bash_script_path, \"w\") as file:\n",
    "    file.write(bash_script_content)\n",
    "\n",
    "# Make the bash script executable\n",
    "os.chmod(bash_script_path, 0o755)\n",
    "\n",
    "# Execute the bash script\n",
    "subprocess.run([\"./\" + bash_script_path], check=True)\n",
    "\n",
    "# Delete the bash script after execution\n",
    "os.remove(bash_script_path)"
   ]
  },
  {
   "cell_type": "markdown",
   "metadata": {},
   "source": [
    "## Check if the bond scan terminated properly"
   ]
  },
  {
   "cell_type": "code",
   "execution_count": null,
   "metadata": {},
   "outputs": [],
   "source": [
    "import os\n",
    "\n",
    "# Path to the log file\n",
    "scan_log_file_path = os.path.join(\"scan\", f\"{molecule_name}.log\")\n",
    "\n",
    "# Check if the last line starts with \"Normal termination\"\n",
    "with open(scan_log_file_path, \"r\") as file:\n",
    "    lines = file.readlines()\n",
    "    if lines and lines[-1].strip().startswith(\"Normal termination\"):\n",
    "        print(\"Bond scan completed successfully.\")\n",
    "    else:\n",
    "        raise RuntimeError(\"Error: Bond scan didn't terminate properly.\")"
   ]
  },
  {
   "cell_type": "markdown",
   "metadata": {},
   "source": [
    "## Extract the geometries of the scan for TANGO to use"
   ]
  },
  {
   "cell_type": "code",
   "execution_count": null,
   "metadata": {},
   "outputs": [],
   "source": [
    "import os\n",
    "\n",
    "# Periodic table mapping from atomic number to element symbol\n",
    "periodic_table = {\n",
    "    1: \"H\", 2: \"He\", 3: \"Li\", 4: \"Be\", 5: \"B\", 6: \"C\", 7: \"N\", 8: \"O\", 9: \"F\", 10: \"Ne\",\n",
    "    11: \"Na\", 12: \"Mg\", 13: \"Al\", 14: \"Si\", 15: \"P\", 16: \"S\", 17: \"Cl\", 18: \"Ar\", 19: \"K\", 20: \"Ca\",\n",
    "    21: \"Sc\", 22: \"Ti\", 23: \"V\", 24: \"Cr\", 25: \"Mn\", 26: \"Fe\", 27: \"Co\", 28: \"Ni\", 29: \"Cu\", 30: \"Zn\",\n",
    "    31: \"Ga\", 32: \"Ge\", 33: \"As\", 34: \"Se\", 35: \"Br\", 36: \"Kr\", 37: \"Rb\", 38: \"Sr\", 39: \"Y\", 40: \"Zr\",\n",
    "    41: \"Nb\", 42: \"Mo\", 43: \"Tc\", 44: \"Ru\", 45: \"Rh\", 46: \"Pd\", 47: \"Ag\", 48: \"Cd\", 49: \"In\", 50: \"Sn\",\n",
    "    51: \"Sb\", 52: \"Te\", 53: \"I\", 54: \"Xe\", 55: \"Cs\", 56: \"Ba\", 57: \"La\", 58: \"Ce\", 59: \"Pr\", 60: \"Nd\",\n",
    "    61: \"Pm\", 62: \"Sm\", 63: \"Eu\", 64: \"Gd\", 65: \"Tb\", 66: \"Dy\", 67: \"Ho\", 68: \"Er\", 69: \"Tm\", 70: \"Yb\",\n",
    "    71: \"Lu\", 72: \"Hf\", 73: \"Ta\", 74: \"W\", 75: \"Re\", 76: \"Os\", 77: \"Ir\", 78: \"Pt\", 79: \"Au\", 80: \"Hg\",\n",
    "    81: \"Tl\", 82: \"Pb\", 83: \"Bi\", 84: \"Po\", 85: \"At\", 86: \"Rn\", 87: \"Fr\", 88: \"Ra\", 89: \"Ac\", 90: \"Th\",\n",
    "    91: \"Pa\", 92: \"U\", 93: \"Np\", 94: \"Pu\", 95: \"Am\", 96: \"Cm\", 97: \"Bk\", 98: \"Cf\", 99: \"Es\", 100: \"Fm\",\n",
    "    101: \"Md\", 102: \"No\", 103: \"Lr\", 104: \"Rf\", 105: \"Db\", 106: \"Sg\", 107: \"Bh\", 108: \"Hs\", 109: \"Mt\",\n",
    "    110: \"Ds\", 111: \"Rg\", 112: \"Cn\", 113: \"Nh\", 114: \"Fl\", 115: \"Mc\", 116: \"Lv\", 117: \"Ts\", 118: \"Og\"\n",
    "}\n",
    "\n",
    "# Function to extract the required data from the log file\n",
    "def extract_data_from_log(scan_log_file_path, output_file_path):\n",
    "    with open(scan_log_file_path, \"r\") as file:\n",
    "        lines = file.readlines()\n",
    "\n",
    "    all_blocks = []\n",
    "    for i, line in enumerate(lines):\n",
    "        if \"Standard orientation:\" in line:\n",
    "            start_index = i + 5 \n",
    "            block_data = []\n",
    "            while start_index < len(lines) and not lines[start_index].strip().startswith('-'):\n",
    "                parts = lines[start_index].split()\n",
    "                if len(parts) >= 6:\n",
    "                    atomic_number = int(parts[1])\n",
    "                    element = periodic_table.get(atomic_number, \"X\")\n",
    "                    x = parts[3]\n",
    "                    y = parts[4]\n",
    "                    z = parts[5]\n",
    "                    block_data.append(f\"{element} {x} {y} {z}\")\n",
    "                start_index += 1\n",
    "            if block_data:\n",
    "                all_blocks.append(f\"{len(block_data)}\\n\\n\" + \"\\n\".join(block_data))\n",
    "\n",
    "    with open(output_file_path, \"w\") as file:\n",
    "        for block in all_blocks:\n",
    "            file.write(block + \"\\n\")\n",
    "\n",
    "scan_log_file_path = os.path.join(\"scan\", f\"{molecule_name}.log\")\n",
    "output_file_path = f\"traj_{molecule_name}.xyz\"\n",
    "\n",
    "extract_data_from_log(scan_log_file_path, output_file_path)"
   ]
  },
  {
   "cell_type": "markdown",
   "metadata": {},
   "source": [
    "## Extract the energies of the scan for TANGO to use"
   ]
  },
  {
   "cell_type": "code",
   "execution_count": null,
   "metadata": {},
   "outputs": [],
   "source": [
    "import re\n",
    "\n",
    "hartree_to_eV = 27.211407953\n",
    "\n",
    "# Function to extract energies from the log file\n",
    "def extract_energies(scan_log_file_path):\n",
    "    with open(scan_log_file_path, \"r\") as file:\n",
    "        lines = file.readlines()\n",
    "\n",
    "    energies = []\n",
    "    for line in lines:\n",
    "        if \"EUMP2\" in line:\n",
    "            match = re.search(r\"EUMP2\\s*=\\s*([-\\d\\.D]+[+-]\\d+)\", line)\n",
    "            if match:\n",
    "                energy = match.group(1).replace('D', 'E')\n",
    "                try:\n",
    "                    energy_eV = float(energy) * hartree_to_eV\n",
    "                    energies.append(energy_eV)\n",
    "                except ValueError as e:\n",
    "                    print(f\"Error converting energy: {energy} - {e}\")\n",
    "    return energies\n",
    "\n",
    "# Function to write energies and distances to output file\n",
    "def write_energies_to_file(energies, minimum_dist, step_size, scan_step_number, output_file_path):\n",
    "    distances = [minimum_dist + i * step_size for i in range(scan_step_number + 1)]\n",
    "    with open(output_file_path, \"w\") as file:\n",
    "        for distance, energy in zip(distances, energies):\n",
    "            file.write(f\"{distance} {energy}\\n\")\n",
    "\n",
    "# Extract energies and write to file\n",
    "energy_output_file_path = f\"energy_{molecule_name}.dat\"\n",
    "energies = extract_energies(scan_log_file_path)\n",
    "write_energies_to_file(energies, minimum_dist, step_size, scan_step_number, energy_output_file_path)"
   ]
  }
 ],
 "metadata": {
  "kernelspec": {
   "display_name": "pq",
   "language": "python",
   "name": "python3"
  },
  "language_info": {
   "codemirror_mode": {
    "name": "ipython",
    "version": 3
   },
   "file_extension": ".py",
   "mimetype": "text/x-python",
   "name": "python",
   "nbconvert_exporter": "python",
   "pygments_lexer": "ipython3",
   "version": "3.12.3"
  }
 },
 "nbformat": 4,
 "nbformat_minor": 2
}
